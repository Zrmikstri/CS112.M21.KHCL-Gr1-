{
 "cells": [
  {
   "cell_type": "markdown",
   "metadata": {},
   "source": [
    "\n",
    "# **SUBSET-SUM PROBLEM**\n"
   ]
  },
  {
   "cell_type": "markdown",
   "metadata": {},
   "source": [
    "\n",
    "## Vấn đề\n",
    "Hãy tìm các tập con thuộc tập $ A = \\{a_{1},...., a_{n}\\} $ gồm $ n $ số nguyên dương sao cho tổng các phần tử của từng tập con tìm được được phải bằng một số nguyên dương $ d $\n",
    "Để tiện hơn, ta sẽ giả sử các phần tử được sắp xếp tăng dần:\n",
    "\\begin{align*}\n",
    "a_{1} < a_{2} < ... < a_{n}.\n",
    "\\end{align*}\n",
    "\n",
    "Input:\n",
    "* Một dãy số nguyên dương được sắp xếp tăng dần.\n",
    " \n",
    "* Một số nguyên dương $ d $.\n",
    "\n",
    "\n",
    "Output:\n",
    "* Các tập con của dãy số nhập vào có tổng bằng $ d $.\n"
   ]
  },
  {
   "cell_type": "markdown",
   "metadata": {},
   "source": [
    "\n",
    "## Hướng tiếp cận\n"
   ]
  },
  {
   "cell_type": "markdown",
   "metadata": {},
   "source": [
    "\n",
    "### Brute force\n",
    "\n",
    "Ta có thể sử dụng brute force bằng cách tính tổng mọi tập hợp con và so sánh với $d$."
   ]
  },
  {
   "cell_type": "code",
   "execution_count": null,
   "metadata": {},
   "outputs": [],
   "source": [
    "from itertools import combinations\n",
    "\n",
    "def SubSetSum(arr, d):\n",
    "    for i in range(1, len(arr) + 1):\n",
    "        for subset in combinations(arr, i):\n",
    "            if sum(subset) == d:\n",
    "                print(subset)\n",
    "\n",
    "if __name__ == '__main__':\n",
    "    array = list(map(int, input().split()))\n",
    "    d = int(input())\n"
   ]
  },
  {
   "cell_type": "markdown",
   "metadata": {},
   "source": [
    "Hiển nhiên, cách tiếp cận brute force này chỉ thích hợp với input có đầu vào nhỏ. Khi kích thước mảng đầu vào tăng, số tập con mà ta phải kiểm tra với mảng có $ n $ phần tử là $ 2^{n} - 1 $ (không xét tập con rỗng). "
   ]
  },
  {
   "cell_type": "markdown",
   "metadata": {},
   "source": [
    "\n",
    "### Backtracking\n",
    "\n",
    "Với Backtracking, ta sẽ tạo thêm một mảng kết quả $ Result $ và luôn theo dõi tổng thay đổi như thế nào khi thêm phần tử $ a_{i} $ vào mảng. Cách hoạt động của Backtracking được diễn tả bằng state-space tree như sau: \n",
    "\n"
   ]
  },
  {
   "cell_type": "markdown",
   "metadata": {},
   "source": [
    "![State tree](/images/subset_sum_state_tree.png)"
   ]
  },
  {
   "cell_type": "code",
   "execution_count": null,
   "metadata": {},
   "outputs": [],
   "source": [
    "def SubSetSum(array, result,  sum, d):\n",
    "    if (sum == d):\n",
    "        print(result)\n",
    "        return\n",
    "    elif (sum > d or len(array) == 0):\n",
    "        return\n",
    "    elif (sum < d):\n",
    "        result.append(array[0])\n",
    "        SubSetSum(array[1:], result, sum + array[0], d)\n",
    "        result.pop()\n",
    "        SubSetSum(array[1:], result, sum, d)\n",
    "\n",
    "if __name__ == '__main__':\n",
    "    arr = list(map(int, input().split()))\n",
    "    d = int(input())\n",
    "    result = []\n",
    "    SubSetSum(arr, result, 0, d)"
   ]
  }
 ],
 "metadata": {
  "language_info": {
   "name": "python"
  },
  "orig_nbformat": 4
 },
 "nbformat": 4,
 "nbformat_minor": 2
}
