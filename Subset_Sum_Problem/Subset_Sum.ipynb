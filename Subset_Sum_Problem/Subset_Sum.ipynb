{
 "cells": [
  {
   "cell_type": "markdown",
   "metadata": {},
   "source": [
    "\n",
    "# **SUBSET-SUM PROBLEM**\n"
   ]
  },
  {
   "cell_type": "markdown",
   "metadata": {},
   "source": [
    "\n",
    "## Vấn đề\n",
    "Hãy tìm các tập con thuộc tập $ A = \\{a_{1},...., a_{n}\\} $ gồm $ n $ số nguyên dương sao cho tổng các phần tử của từng tập con tìm được được phải bằng một số nguyên dương $ d $\n",
    "Để tiện hơn, ta sẽ giả sử các phần tử được sắp xếp tăng dần:\n",
    "\\begin{align*}\n",
    "a_{1} < a_{2} < ... < a_{n}.\n",
    "\\end{align*}\n",
    "\n",
    "**Input**:\n",
    "* Một dãy số nguyên dương được sắp xếp tăng dần.\n",
    " \n",
    "* Một số nguyên dương $ d $.\n",
    "\n",
    "\n",
    "**Output**:\n",
    "* Các tập con của dãy số nhập vào có tổng bằng $ d $.\n"
   ]
  },
  {
   "cell_type": "markdown",
   "metadata": {},
   "source": [
    "\n",
    "## Hướng tiếp cận\n"
   ]
  },
  {
   "cell_type": "markdown",
   "metadata": {},
   "source": [
    "\n",
    "### Brute force\n",
    "\n",
    "Ta có thể sử dụng brute force bằng cách tính tổng mọi tập hợp con và so sánh với $d$."
   ]
  },
  {
   "cell_type": "code",
   "execution_count": null,
   "metadata": {},
   "outputs": [],
   "source": [
    "from itertools import combinations\n",
    "\n",
    "def SubSetSum(arr, d):\n",
    "    for i in range(1, len(arr) + 1):\n",
    "        for subset in combinations(arr, i):\n",
    "            if sum(subset) == d:\n",
    "                print(subset)\n",
    "\n",
    "if __name__ == '__main__':\n",
    "    array = list(map(int, input().split()))\n",
    "    d = int(input())\n",
    "    SubSetSum(array, d)"
   ]
  },
  {
   "cell_type": "markdown",
   "metadata": {},
   "source": [
    "Hiển nhiên, cách tiếp cận brute force này chỉ thích hợp với input có đầu vào nhỏ. Khi kích thước mảng đầu vào tăng, số tập con mà ta phải kiểm tra với mảng có $ n $ phần tử là $ 2^{n} - 1 $ (không xét tập con rỗng). "
   ]
  },
  {
   "cell_type": "markdown",
   "metadata": {},
   "source": [
    "\n",
    "### Backtracking\n",
    "\n",
    "Với Backtracking, ta sẽ tạo thêm một mảng kết quả $ Result $ và luôn theo dõi tổng thay đổi như thế nào khi thêm phần tử $ a_{i} $ vào mảng. Cách hoạt động của Backtracking được diễn tả bằng state-space tree như sau:\n",
    "\n",
    "**Input**\n",
    "* $ A = {3, 5 , 6 , 7} $\n",
    "* $ d = 15 $\n",
    "\n",
    "\n",
    "![Subset Sum State Tree](../images/subset_sum_state_tree.png)\n",
    "\n",
    "Ta có thể xây dựng state-space tree là một cây nhị phân với giá trị của từng nút là tổng các phần tử trong mảng $ Result $. Các nhánh bên trái là trường hợp thêm phần tử $ a_{i} $ vào $ Result $. Các nhánh bên phải là trường hợp không thêm phần tử $ a_{i} $ vào $ Result $. Đường đi từ nút gốc đến nút thuộc mức thứ $ i $ cho ta biết các phần tử nào trong $ i $ phần tử đầu tiên được thêm vào $ Result $. Giá trị $ s $ được dùng để lưu giữ tổng các phần tử của mảng kết quả. Nếu $ s $ bằng $ d $ thì đây là tập con cần tìm. Ta có thể in ra các phần tử trong mảng $ Result $ và backtracking (quay lại) nút cha để tiếp tục tìm kiếm. Nếu $ s $ không bằng $ d $ thì ta sẽ bỏ nút hiện tại khi gặp một trong hai trường hợp sau:\n",
    "* $ s $ lớn hơn $ d $ khi thêm $ a_{i + 1} $ \n",
    "\\begin{align*}\n",
    "s + a_{i + 1} > d.\n",
    "\\end{align*}\n",
    "\n",
    "* Tổng $ s $ và các phần tử phía sau vẫn nhỏ hơn $ d $\n",
    "\\begin{align*}\n",
    "s + \\sum^n_{j = i + 1}a_{j} < d.\n",
    "\\end{align*}\n"
   ]
  },
  {
   "cell_type": "markdown",
   "metadata": {},
   "source": [
    "**Pseudo Code**\n",
    "```\n",
    "Giải thuật SubSetSum(A[], R[], sum, d):\n",
    "    if sum == d:\n",
    "        write R[]\n",
    "        return:\n",
    "    else if sum > d or len(A[]) == 0:\n",
    "        return\n",
    "    else:\n",
    "        SubSetSum(A[1..i], R[], sum, d)\n",
    "        R[].append(A[0])\n",
    "        SubSetSum(A[1..i], R[], sum + A[0], d)\n",
    "\n",
    "```"
   ]
  }
 ],
 "metadata": {
  "language_info": {
   "name": "python"
  },
  "orig_nbformat": 4
 },
 "nbformat": 4,
 "nbformat_minor": 2
}
